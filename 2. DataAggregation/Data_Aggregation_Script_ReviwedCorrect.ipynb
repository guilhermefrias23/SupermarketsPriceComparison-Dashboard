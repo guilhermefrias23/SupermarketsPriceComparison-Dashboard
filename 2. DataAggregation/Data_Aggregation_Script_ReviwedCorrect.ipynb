{
 "cells": [
  {
   "cell_type": "markdown",
   "id": "08d9032e",
   "metadata": {},
   "source": [
    "### Initial Comment\n",
    "\n",
    "This script aims to piece together all the data obtained from the webscrapping tools to allow the correct production of the dashboard based on the defined template.\n",
    "\n",
    "To do so this script will follow the following steps:\n",
    " - Import all the data from the three supermarkets and will store these data in different dataframes\n",
    " - Remove the first two rows (headers) and add the correct column names\n",
    " - Fill the missing data for each supermarket based on the supermarket and the category that they belong to\n",
    " - Replace the words that were changed regarding 'Bovino' to 'Vaca' as per the initial criteria\n",
    " - Fill the product category information based on the first availble value for each row\n",
    " - Left join each data frame with the original set of categories so that if there are missing products, all of them are placed on the DataFrame\n",
    " - Concatenate all dataframes into one in which each product is repeated three times and has 150 rows"
   ]
  },
  {
   "cell_type": "code",
   "execution_count": 1,
   "id": "ab02056d",
   "metadata": {},
   "outputs": [],
   "source": [
    "import pandas as pd"
   ]
  },
  {
   "cell_type": "code",
   "execution_count": 2,
   "id": "abf4a7ed",
   "metadata": {},
   "outputs": [],
   "source": [
    "# Import all the data\n",
    "continente = pd.read_excel('Continente_ProductData.xlsx')\n",
    "auchan = pd.read_excel('Auchan_Products.xlsx')\n",
    "minipreco = pd.read_excel('MiniPreco_Products.xlsx')"
   ]
  },
  {
   "cell_type": "code",
   "execution_count": 3,
   "id": "9f583528",
   "metadata": {},
   "outputs": [],
   "source": [
    "row_names = ['Supermarket','Category Object','Product Object',\n",
    "             'Average Per Product','Min Price per Product','Max Price per Product','Count of Products']"
   ]
  },
  {
   "cell_type": "code",
   "execution_count": 4,
   "id": "45fb10e0",
   "metadata": {},
   "outputs": [],
   "source": [
    "# Rename the columns\n",
    "continente.columns = row_names\n",
    "auchan.columns = row_names\n",
    "minipreco.columns = row_names\n",
    "\n",
    "# Remove the first two rows of each df\n",
    "continente = continente.iloc[2:,:]\n",
    "auchan = auchan.iloc[2:,:]\n",
    "minipreco = minipreco.iloc[2:,:]"
   ]
  },
  {
   "cell_type": "code",
   "execution_count": 5,
   "id": "8ba8cff3",
   "metadata": {},
   "outputs": [],
   "source": [
    "# Add the supermarket info to the 'Supermarket' column\n",
    "continente[\"Supermarket\"] = \"Continente\"\n",
    "auchan[\"Supermarket\"] = \"Auchan\"\n",
    "minipreco[\"Supermarket\"] =\"Mini Preço\""
   ]
  },
  {
   "cell_type": "code",
   "execution_count": 6,
   "id": "5cef5d8c",
   "metadata": {},
   "outputs": [],
   "source": [
    "# Replace the string 'Bovino' for 'Vaca' as per the initial criteria in Auchan and Mini Preço\n",
    "auchan['Product Object'] =  auchan['Product Object'].replace(\"Bovino\", \"Vaca\")\n",
    "minipreco['Product Object'] = minipreco['Product Object'].replace(\"Bovino\", \"Vaca\")\n"
   ]
  },
  {
   "cell_type": "code",
   "execution_count": 7,
   "id": "4292bd24",
   "metadata": {},
   "outputs": [],
   "source": [
    "## Define a function to fill all the NaN on the Category Object columm\n",
    "\n",
    "def remove_NaN(dataframe):\n",
    "    copy = dataframe.copy()\n",
    "    indexes_wData = copy[~copy[\"Category Object\"].isna()].index\n",
    "    \n",
    "    for index, row in copy.iterrows():\n",
    "        if index in indexes_wData:\n",
    "            last_categoryName = copy.loc[index,\"Category Object\"] # Store the last known value for the category name\n",
    "        else:\n",
    "            dataframe.loc[index, \"Category Object\"] = last_categoryName # Passes the last known category name to the original df\n",
    "    \n",
    "    return dataframe"
   ]
  },
  {
   "cell_type": "code",
   "execution_count": 8,
   "id": "407c1c4d",
   "metadata": {},
   "outputs": [],
   "source": [
    "# Clean each data frame from the NaN\n",
    "continente = remove_NaN(continente)\n",
    "auchan = remove_NaN(auchan)\n",
    "minipreco = remove_NaN(minipreco)"
   ]
  },
  {
   "cell_type": "markdown",
   "id": "0f37a27d",
   "metadata": {},
   "source": [
    "### Explanation Comment\n",
    "\n",
    "Now we have all the data in the final format, although we may have some differences across each data file since some products may not exist in all supermarkets that were chosen for this project"
   ]
  },
  {
   "cell_type": "code",
   "execution_count": 9,
   "id": "1c370646",
   "metadata": {},
   "outputs": [],
   "source": [
    "# First we will add the missing product rows to each data frame\n",
    "#    To do this we will import the input data for the webscrapping scripts so that we can access all products that were search on\n",
    "categories = pd.read_excel('Categories.xlsx')\n",
    "\n",
    "# From this file we only need the 'Product' column buut to maintain on the DataFrame \n",
    "categories = pd.DataFrame(categories[\"Product\"])\n",
    "\n",
    "# And rename this column to match the names that we have on each supermarket data\n",
    "categories.columns = [\"Product Object\"]\n",
    "\n",
    "\n",
    "# To have all the necessary rows in every dataframe we need to to a left join using as the left data frame \n",
    "#    the categories file that was just imported\n",
    "continente_AllProd = categories.merge(continente, on='Product Object', how='left')\n",
    "auchan_AllProd = categories.merge(auchan, on='Product Object', how='left')\n",
    "minipreco_AllProd = categories.merge(minipreco, on='Product Object', how='left')"
   ]
  },
  {
   "cell_type": "code",
   "execution_count": 10,
   "id": "6b88152a",
   "metadata": {},
   "outputs": [],
   "source": [
    "# Since that depending the supermarket there may be new rows with NaN data, then is needed to re-apply the Remove_NaN function\n",
    "#Apply the same data cleaning to the newly created dataframes that was applied previously\n",
    "\n",
    "continente_AllProd = remove_NaN(continente_AllProd)\n",
    "auchan_AllProd = remove_NaN(auchan_AllProd)\n",
    "minipreco_AllProd = remove_NaN(minipreco_AllProd)\n",
    "\n",
    "continente_AllProd[\"Supermarket\"] = \"Continente\"\n",
    "auchan_AllProd[\"Supermarket\"] = \"Auchan\"\n",
    "minipreco_AllProd[\"Supermarket\"] = \"Mini Preço\"\n",
    "\n"
   ]
  },
  {
   "cell_type": "code",
   "execution_count": 11,
   "id": "e7f96e11",
   "metadata": {},
   "outputs": [
    {
     "data": {
      "text/html": [
       "<div>\n",
       "<style scoped>\n",
       "    .dataframe tbody tr th:only-of-type {\n",
       "        vertical-align: middle;\n",
       "    }\n",
       "\n",
       "    .dataframe tbody tr th {\n",
       "        vertical-align: top;\n",
       "    }\n",
       "\n",
       "    .dataframe thead th {\n",
       "        text-align: right;\n",
       "    }\n",
       "</style>\n",
       "<table border=\"1\" class=\"dataframe\">\n",
       "  <thead>\n",
       "    <tr style=\"text-align: right;\">\n",
       "      <th></th>\n",
       "      <th>Product Object</th>\n",
       "      <th>Supermarket</th>\n",
       "      <th>Category Object</th>\n",
       "      <th>Average Per Product</th>\n",
       "      <th>Min Price per Product</th>\n",
       "      <th>Max Price per Product</th>\n",
       "      <th>Count of Products</th>\n",
       "    </tr>\n",
       "  </thead>\n",
       "  <tbody>\n",
       "    <tr>\n",
       "      <th>0</th>\n",
       "      <td>Perú</td>\n",
       "      <td>Continente</td>\n",
       "      <td>Talho</td>\n",
       "      <td>7.337</td>\n",
       "      <td>3.99</td>\n",
       "      <td>8.99</td>\n",
       "      <td>10</td>\n",
       "    </tr>\n",
       "    <tr>\n",
       "      <th>1</th>\n",
       "      <td>Frango</td>\n",
       "      <td>Continente</td>\n",
       "      <td>Talho</td>\n",
       "      <td>5.25</td>\n",
       "      <td>2.39</td>\n",
       "      <td>8.99</td>\n",
       "      <td>10</td>\n",
       "    </tr>\n",
       "    <tr>\n",
       "      <th>2</th>\n",
       "      <td>Bacalhau</td>\n",
       "      <td>Continente</td>\n",
       "      <td>Peixaria</td>\n",
       "      <td>13.023</td>\n",
       "      <td>7.3</td>\n",
       "      <td>27.06</td>\n",
       "      <td>10</td>\n",
       "    </tr>\n",
       "    <tr>\n",
       "      <th>3</th>\n",
       "      <td>Cebola</td>\n",
       "      <td>Continente</td>\n",
       "      <td>Legumes</td>\n",
       "      <td>3.148</td>\n",
       "      <td>0.79</td>\n",
       "      <td>11.92</td>\n",
       "      <td>10</td>\n",
       "    </tr>\n",
       "    <tr>\n",
       "      <th>4</th>\n",
       "      <td>Batata</td>\n",
       "      <td>Continente</td>\n",
       "      <td>Legumes</td>\n",
       "      <td>1.518</td>\n",
       "      <td>0.56</td>\n",
       "      <td>3.29</td>\n",
       "      <td>10</td>\n",
       "    </tr>\n",
       "  </tbody>\n",
       "</table>\n",
       "</div>"
      ],
      "text/plain": [
       "  Product Object Supermarket Category Object Average Per Product  \\\n",
       "0           Perú  Continente           Talho               7.337   \n",
       "1         Frango  Continente           Talho                5.25   \n",
       "2       Bacalhau  Continente        Peixaria              13.023   \n",
       "3         Cebola  Continente         Legumes               3.148   \n",
       "4         Batata  Continente         Legumes               1.518   \n",
       "\n",
       "  Min Price per Product Max Price per Product Count of Products  \n",
       "0                  3.99                  8.99                10  \n",
       "1                  2.39                  8.99                10  \n",
       "2                   7.3                 27.06                10  \n",
       "3                  0.79                 11.92                10  \n",
       "4                  0.56                  3.29                10  "
      ]
     },
     "execution_count": 11,
     "metadata": {},
     "output_type": "execute_result"
    }
   ],
   "source": [
    "# Now we are able to concatenate all the three data frames into one, preparing the final file\n",
    "\n",
    "data_frames = [continente_AllProd, auchan_AllProd, minipreco_AllProd]\n",
    "\n",
    "concat_data = pd.concat(data_frames)\n",
    "concat_data.head()"
   ]
  },
  {
   "cell_type": "code",
   "execution_count": 12,
   "id": "d719cabe",
   "metadata": {},
   "outputs": [
    {
     "name": "stdout",
     "output_type": "stream",
     "text": [
      "Passed Check\n"
     ]
    },
    {
     "data": {
      "text/plain": [
       "Perú                3\n",
       "Sacos do Lixo       3\n",
       "Grão                3\n",
       "Feijao              3\n",
       "Detergente Loiça    3\n",
       "Name: Product Object, dtype: int64"
      ]
     },
     "execution_count": 12,
     "metadata": {},
     "output_type": "execute_result"
    }
   ],
   "source": [
    "## Some checks to see if the concatenation was correctly done\n",
    "if(len(concat_data) == 50*3):\n",
    "    print(\"Passed Check\")\n",
    "else:\n",
    "    print(\"Review the data\")\n",
    "\n",
    "concat_data['Product Object'].value_counts().head()\n",
    "#    should return only 3's since we have one entry for each of these products"
   ]
  },
  {
   "cell_type": "code",
   "execution_count": 13,
   "id": "95a6ff72",
   "metadata": {},
   "outputs": [],
   "source": [
    "# Fill all the NaN that are on the Prices and Count Columns\n",
    "concat_data.fillna(0, inplace = True)"
   ]
  },
  {
   "cell_type": "code",
   "execution_count": 14,
   "id": "e83bd210",
   "metadata": {},
   "outputs": [],
   "source": [
    "# We want our data on a specific format so that the dashboard is able to read it\n",
    "concat_data = concat_data.sort_values(by = 'Product Object')"
   ]
  },
  {
   "cell_type": "code",
   "execution_count": 15,
   "id": "71fa2402",
   "metadata": {},
   "outputs": [],
   "source": [
    "# Export to Excel\n",
    "concat_data.to_excel('Data_ForDashboard.xlsx', index=False)"
   ]
  }
 ],
 "metadata": {
  "kernelspec": {
   "display_name": "Python 3 (ipykernel)",
   "language": "python",
   "name": "python3"
  },
  "language_info": {
   "codemirror_mode": {
    "name": "ipython",
    "version": 3
   },
   "file_extension": ".py",
   "mimetype": "text/x-python",
   "name": "python",
   "nbconvert_exporter": "python",
   "pygments_lexer": "ipython3",
   "version": "3.9.7"
  }
 },
 "nbformat": 4,
 "nbformat_minor": 5
}
